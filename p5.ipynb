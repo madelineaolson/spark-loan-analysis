{
 "cells": [
  {
   "cell_type": "code",
   "execution_count": 1,
   "id": "c808f62f-9b8d-406f-8069-e1ed3881846b",
   "metadata": {},
   "outputs": [],
   "source": [
    "#Madeline Olson + Luca Kader"
   ]
  },
  {
   "cell_type": "code",
   "execution_count": 2,
   "id": "ec01b3bc-b5a9-4727-8bf9-a834072b67dc",
   "metadata": {},
   "outputs": [],
   "source": [
    "!hdfs dfs -D dfs.replication=1 -cp -f data/*.csv hdfs://nn:9000/"
   ]
  },
  {
   "cell_type": "code",
   "execution_count": 3,
   "id": "b217d569-f937-4cd4-8a7b-5e07822421f0",
   "metadata": {},
   "outputs": [
    {
     "name": "stderr",
     "output_type": "stream",
     "text": [
      "Setting default log level to \"WARN\".\n",
      "To adjust logging level use sc.setLogLevel(newLevel). For SparkR, use setLogLevel(newLevel).\n",
      "23/11/08 21:39:51 WARN NativeCodeLoader: Unable to load native-hadoop library for your platform... using builtin-java classes where applicable\n"
     ]
    }
   ],
   "source": [
    "from pyspark.sql import SparkSession\n",
    "spark = (SparkSession.builder.appName(\"cs544\")\n",
    "         .master(\"spark://boss:7077\")\n",
    "         .config(\"spark.executor.memory\", \"512M\")\n",
    "         .config(\"spark.sql.warehouse.dir\", \"hdfs://nn:9000/user/hive/warehouse\")\n",
    "         .enableHiveSupport()\n",
    "         .getOrCreate())"
   ]
  },
  {
   "cell_type": "code",
   "execution_count": 4,
   "id": "5b6aab30-6c8c-4294-8c49-80cbc70ba708",
   "metadata": {},
   "outputs": [
    {
     "name": "stderr",
     "output_type": "stream",
     "text": [
      "                                                                                \r"
     ]
    },
    {
     "data": {
      "text/plain": [
       "525"
      ]
     },
     "execution_count": 4,
     "metadata": {},
     "output_type": "execute_result"
    }
   ],
   "source": [
    "#Q1: how many banks contain the word \"first\" in their name, ignoring case? Use an RDD to answer.\n",
    "banks_df = spark.read.option(\"header\", \"true\").option(\"inferSchema\", \"true\") \\\n",
    ".csv(\"hdfs://nn:9000/arid2017_to_lei_xref_csv.csv\") \n",
    "\n",
    "banks_rdd = banks_df.rdd\n",
    "\n",
    "banks_rdd.filter(lambda row: \"first\" in row.respondent_name.lower()).count()"
   ]
  },
  {
   "cell_type": "code",
   "execution_count": 5,
   "id": "a699fc13-7e5a-4b7e-95e9-61ce4de3cdaf",
   "metadata": {},
   "outputs": [
    {
     "name": "stderr",
     "output_type": "stream",
     "text": [
      "                                                                                \r"
     ]
    },
    {
     "data": {
      "text/plain": [
       "525"
      ]
     },
     "execution_count": 5,
     "metadata": {},
     "output_type": "execute_result"
    }
   ],
   "source": [
    "#Q2: how many banks contain the word \"first\" in their name, ignoring case? Use a DataFrame to answer.\n",
    "banks_df.filter(\"LOWER(respondent_name) LIKE '%first%'\").count()"
   ]
  },
  {
   "cell_type": "code",
   "execution_count": 6,
   "id": "334b0349-dc3d-4356-8e02-465423a1c257",
   "metadata": {},
   "outputs": [
    {
     "name": "stderr",
     "output_type": "stream",
     "text": [
      "23/11/08 21:40:33 WARN HiveConf: HiveConf of name hive.stats.jdbc.timeout does not exist\n",
      "23/11/08 21:40:33 WARN HiveConf: HiveConf of name hive.stats.retries.wait does not exist\n",
      "23/11/08 21:40:42 WARN ObjectStore: Version information not found in metastore. hive.metastore.schema.verification is not enabled so recording the schema version 2.3.0\n",
      "23/11/08 21:40:42 WARN ObjectStore: setMetaStoreSchemaVersion called but recording version is disabled: version = 2.3.0, comment = Set by MetaStore UNKNOWN@172.24.0.3\n",
      "23/11/08 21:40:43 WARN ObjectStore: Failed to get database global_temp, returning NoSuchObjectException\n",
      "23/11/08 21:40:52 WARN SessionState: METASTORE_FILTER_HOOK will be ignored, since hive.security.authorization.manager is set to instance of HiveAuthorizerFactory.\n",
      "23/11/08 21:40:52 WARN HiveConf: HiveConf of name hive.internal.ss.authz.settings.applied.marker does not exist\n",
      "23/11/08 21:40:52 WARN HiveConf: HiveConf of name hive.stats.jdbc.timeout does not exist\n",
      "23/11/08 21:40:52 WARN HiveConf: HiveConf of name hive.stats.retries.wait does not exist\n",
      "                                                                                \r"
     ]
    },
    {
     "data": {
      "text/plain": [
       "525"
      ]
     },
     "execution_count": 6,
     "metadata": {},
     "output_type": "execute_result"
    }
   ],
   "source": [
    "#Q3: how many banks contain the word \"first\" in their name, ignoring case? Use Spark SQL to answer.\n",
    "banks_df.write.saveAsTable(\"banks\", mode=\"overwrite\")\n",
    "spark.sql(\"\"\"\n",
    "SELECT COUNT(*) as first_count\n",
    "FROM banks\n",
    "WHERE LOWER(respondent_name) LIKE \"%first%\"\n",
    "            \"\"\").collect()[0]['first_count']"
   ]
  },
  {
   "cell_type": "code",
   "execution_count": 7,
   "id": "cbdc7b55-ddab-4347-836c-1df2d6948c9d",
   "metadata": {},
   "outputs": [
    {
     "name": "stderr",
     "output_type": "stream",
     "text": [
      "23/11/08 21:41:24 WARN SparkStringUtils: Truncated the string representation of a plan since it was too large. This behavior can be adjusted by setting 'spark.sql.debug.maxToStringFields'.\n",
      "                                                                                \r"
     ]
    },
    {
     "data": {
      "text/plain": [
       "{'banks': False,\n",
       " 'loans': False,\n",
       " 'action_taken': True,\n",
       " 'counties': True,\n",
       " 'denial_reason': True,\n",
       " 'ethnicity': True,\n",
       " 'loan_purpose': True,\n",
       " 'loan_type': True,\n",
       " 'preapproval': True,\n",
       " 'property_type': True,\n",
       " 'race': True,\n",
       " 'sex': True,\n",
       " 'states': True,\n",
       " 'tracts': True}"
      ]
     },
     "execution_count": 7,
     "metadata": {},
     "output_type": "execute_result"
    }
   ],
   "source": [
    "#Q4: what tables are in our warehouse?\n",
    "loans_df = spark.read.option(\"header\", \"true\").option(\"inferSchema\", \"true\") \\\n",
    ".csv(\"hdfs://nn:9000/hdma-wi-2021.csv\")\n",
    "\n",
    "loans_df.write.bucketBy(8, \"county_code\").saveAsTable(\"loans\", mode=\"overwrite\")\n",
    "\n",
    "datasets = [\n",
    "    \"ethnicity\", \"race\", \"sex\", \"states\", \"counties\", \"tracts\", \"action_taken\",\n",
    "    \"denial_reason\", \"loan_type\", \"loan_purpose\", \"preapproval\", \"property_type\"\n",
    "]\n",
    "\n",
    "for dataset in datasets:\n",
    "    df = spark.read.option(\"header\", \"true\").option(\"inferSchema\", \"true\") \\\n",
    "    .csv(f\"hdfs://nn:9000/{dataset}.csv\")\n",
    "    df.createOrReplaceTempView(dataset)\n",
    "\n",
    "#spark.sql(\"SHOW TABLES\").show()\n",
    "\n",
    "tables_df = spark.sql(\"SHOW TABLES\")\n",
    "tables_list = tables_df.collect()\n",
    "tables_dict = {row.tableName: row.isTemporary for row in tables_list}\n",
    "tables_dict\n"
   ]
  },
  {
   "cell_type": "code",
   "execution_count": 8,
   "id": "1f99dd48-1e3f-4a48-8ad4-0b93373544f6",
   "metadata": {},
   "outputs": [
    {
     "name": "stderr",
     "output_type": "stream",
     "text": [
      "                                                                                \r"
     ]
    },
    {
     "data": {
      "text/plain": [
       "19739"
      ]
     },
     "execution_count": 8,
     "metadata": {},
     "output_type": "execute_result"
    }
   ],
   "source": [
    "#Q5: how many loan applications has the bank \"University of Wisconsin Credit Union\" received in 2020 in this dataset?\n",
    "spark.sql(\"\"\"\n",
    "SELECT COUNT(*)\n",
    "FROM banks\n",
    "INNER JOIN loans ON banks.lei_2020 = loans.lei\n",
    "WHERE respondent_name = \"University of Wisconsin Credit Union\"\n",
    "\"\"\").toPandas()['count(1)'][0]"
   ]
  },
  {
   "cell_type": "code",
   "execution_count": 9,
   "id": "fefce888-98e9-4104-8d36-0bfff197f9fc",
   "metadata": {},
   "outputs": [
    {
     "name": "stdout",
     "output_type": "stream",
     "text": [
      "== Physical Plan ==\n",
      "AdaptiveSparkPlan (12)\n",
      "+- HashAggregate (11)\n",
      "   +- Exchange (10)\n",
      "      +- HashAggregate (9)\n",
      "         +- Project (8)\n",
      "            +- BroadcastHashJoin Inner BuildLeft (7)\n",
      "               :- BroadcastExchange (4)\n",
      "               :  +- Project (3)\n",
      "               :     +- Filter (2)\n",
      "               :        +- Scan parquet spark_catalog.default.banks (1)\n",
      "               +- Filter (6)\n",
      "                  +- Scan parquet spark_catalog.default.loans (5)\n",
      "\n",
      "\n",
      "(1) Scan parquet spark_catalog.default.banks\n",
      "Output [2]: [respondent_name#66, lei_2020#70]\n",
      "Batched: true\n",
      "Location: InMemoryFileIndex [hdfs://nn:9000/user/hive/warehouse/banks]\n",
      "PushedFilters: [IsNotNull(respondent_name), EqualTo(respondent_name,University of Wisconsin Credit Union), IsNotNull(lei_2020)]\n",
      "ReadSchema: struct<respondent_name:string,lei_2020:string>\n",
      "\n",
      "(2) Filter\n",
      "Input [2]: [respondent_name#66, lei_2020#70]\n",
      "Condition : ((isnotnull(respondent_name#66) AND (respondent_name#66 = University of Wisconsin Credit Union)) AND isnotnull(lei_2020#70))\n",
      "\n",
      "(3) Project\n",
      "Output [1]: [lei_2020#70]\n",
      "Input [2]: [respondent_name#66, lei_2020#70]\n",
      "\n",
      "(4) BroadcastExchange\n",
      "Input [1]: [lei_2020#70]\n",
      "Arguments: HashedRelationBroadcastMode(List(input[0, string, true]),false), [plan_id=623]\n",
      "\n",
      "(5) Scan parquet spark_catalog.default.loans\n",
      "Output [1]: [lei#988]\n",
      "Batched: true\n",
      "Bucketed: false (bucket column(s) not read)\n",
      "Location: InMemoryFileIndex [hdfs://nn:9000/user/hive/warehouse/loans]\n",
      "PushedFilters: [IsNotNull(lei)]\n",
      "ReadSchema: struct<lei:string>\n",
      "\n",
      "(6) Filter\n",
      "Input [1]: [lei#988]\n",
      "Condition : isnotnull(lei#988)\n",
      "\n",
      "(7) BroadcastHashJoin\n",
      "Left keys [1]: [lei_2020#70]\n",
      "Right keys [1]: [lei#988]\n",
      "Join type: Inner\n",
      "Join condition: None\n",
      "\n",
      "(8) Project\n",
      "Output: []\n",
      "Input [2]: [lei_2020#70, lei#988]\n",
      "\n",
      "(9) HashAggregate\n",
      "Input: []\n",
      "Keys: []\n",
      "Functions [1]: [partial_count(1)]\n",
      "Aggregate Attributes [1]: [count#1094L]\n",
      "Results [1]: [count#1095L]\n",
      "\n",
      "(10) Exchange\n",
      "Input [1]: [count#1095L]\n",
      "Arguments: SinglePartition, ENSURE_REQUIREMENTS, [plan_id=628]\n",
      "\n",
      "(11) HashAggregate\n",
      "Input [1]: [count#1095L]\n",
      "Keys: []\n",
      "Functions [1]: [count(1)]\n",
      "Aggregate Attributes [1]: [count(1)#1091L]\n",
      "Results [1]: [count(1)#1091L AS count(1)#1092L]\n",
      "\n",
      "(12) AdaptiveSparkPlan\n",
      "Output [1]: [count(1)#1092L]\n",
      "Arguments: isFinalPlan=false\n",
      "\n",
      "\n"
     ]
    }
   ],
   "source": [
    "#Q6: what does .explain(\"formatted\") tell us about how Spark executes Q5?\n",
    "spark.sql(\"\"\"\n",
    "SELECT COUNT(*)\n",
    "FROM banks\n",
    "INNER JOIN loans ON banks.lei_2020 = loans.lei\n",
    "WHERE respondent_name = \"University of Wisconsin Credit Union\"\n",
    "\"\"\").explain(\"formatted\")\n",
    "\n",
    "# 1. Which Table is sent to every executor via a BroadcastExchange operation?\n",
    "    # Table lei_2020#70 from the banks module, since banks has reference lei_2020.\n",
    "# 2. Does the plan involve HashAggregates. If so, which ones?\n",
    "    # Yes——HashAggregate (11) and HashAggregate (9)\n",
    "    # HashAggregate 9 is a partial count, whereas HashAggregate 11 is "
   ]
  },
  {
   "cell_type": "code",
   "execution_count": 10,
   "id": "fafabea6-2ea6-411a-943a-aa4eee4a75e8",
   "metadata": {},
   "outputs": [
    {
     "name": "stderr",
     "output_type": "stream",
     "text": [
      "                                                                                \r"
     ]
    },
    {
     "data": {
      "text/plain": [
       "{'Milwaukee': 3.1173465727097907,\n",
       " 'Waukesha': 2.8758225602027756,\n",
       " 'Washington': 2.851009389671362,\n",
       " 'Dane': 2.890674955595027,\n",
       " 'Brown': 3.010949119373777,\n",
       " 'Racine': 3.099783715012723,\n",
       " 'Outagamie': 2.979661835748792,\n",
       " 'Winnebago': 3.0284761904761908,\n",
       " 'Ozaukee': 2.8673765432098772,\n",
       " 'Sheboygan': 2.995511111111111}"
      ]
     },
     "execution_count": 10,
     "metadata": {},
     "output_type": "execute_result"
    }
   ],
   "source": [
    "#Q7: what are the average interest rates for Wells Fargo applications for the ten countries where Wells Fargo receives the most applications?\n",
    "avg_int = spark.sql(\"\"\"\n",
    "SELECT NAME, AVG(interest_rate) AS avg, respondent_name, COUNT(*) AS num_applications\n",
    "FROM loans\n",
    "JOIN banks ON loans.lei = banks.lei_2020\n",
    "JOIN counties ON loans.county_code = counties.STATE*1000 + counties.COUNTY \n",
    "WHERE respondent_name = \"Wells Fargo Bank, National Association\"\n",
    "GROUP BY NAME, respondent_name\n",
    "ORDER BY num_applications DESC\n",
    "LIMIT 10\n",
    "\"\"\").toPandas()\n",
    "\n",
    "q7_dict = {}\n",
    "for i in range(len(avg_int)):\n",
    "    q7_dict[avg_int['NAME'][i]] = avg_int['avg'][i]\n",
    "q7_dict"
   ]
  },
  {
   "cell_type": "code",
   "execution_count": 11,
   "id": "00aca284-1432-4ab1-a08a-fab1502d5425",
   "metadata": {},
   "outputs": [
    {
     "data": {
      "image/png": "[encoded data removed]",
      "text/plain": [
       "<Figure size 1000x500 with 1 Axes>"
      ]
     },
     "metadata": {},
     "output_type": "display_data"
    }
   ],
   "source": [
    "from matplotlib import pyplot as plt\n",
    "keys = list(q7_dict.keys())\n",
    "values = list(q7_dict.values())\n",
    "plt.figure(figsize=(10, 5)) \n",
    "plt.bar(keys, values)\n",
    "plt.xlabel('name')\n",
    "plt.ylabel('Average Intrest Rate')\n",
    "plt.tight_layout()\n",
    "plt.show()"
   ]
  },
  {
   "cell_type": "code",
   "execution_count": 12,
   "id": "a08e14d6-3408-47b8-a720-7bf5438e48d3",
   "metadata": {},
   "outputs": [
    {
     "name": "stdout",
     "output_type": "stream",
     "text": [
      "== Physical Plan ==\n",
      "AdaptiveSparkPlan (4)\n",
      "+- HashAggregate (3)\n",
      "   +- HashAggregate (2)\n",
      "      +- Scan parquet spark_catalog.default.loans (1)\n",
      "\n",
      "\n",
      "(1) Scan parquet spark_catalog.default.loans\n",
      "Output [2]: [county_code#991, interest_rate#1010]\n",
      "Batched: true\n",
      "Bucketed: true\n",
      "Location: InMemoryFileIndex [hdfs://nn:9000/user/hive/warehouse/loans]\n",
      "ReadSchema: struct<county_code:string,interest_rate:string>\n",
      "SelectedBucketsCount: 8 out of 8\n",
      "\n",
      "(2) HashAggregate\n",
      "Input [2]: [county_code#991, interest_rate#1010]\n",
      "Keys [1]: [county_code#991]\n",
      "Functions [1]: [partial_avg(cast(interest_rate#1010 as double))]\n",
      "Aggregate Attributes [2]: [sum#1123, count#1124L]\n",
      "Results [3]: [county_code#991, sum#1125, count#1126L]\n",
      "\n",
      "(3) HashAggregate\n",
      "Input [3]: [county_code#991, sum#1125, count#1126L]\n",
      "Keys [1]: [county_code#991]\n",
      "Functions [1]: [avg(cast(interest_rate#1010 as double))]\n",
      "Aggregate Attributes [1]: [avg(cast(interest_rate#1010 as double))#1120]\n",
      "Results [2]: [county_code#991, avg(cast(interest_rate#1010 as double))#1120 AS avg#1119]\n",
      "\n",
      "(4) AdaptiveSparkPlan\n",
      "Output [2]: [county_code#991, avg#1119]\n",
      "Arguments: isFinalPlan=false\n",
      "\n",
      "\n",
      "== Physical Plan ==\n",
      "AdaptiveSparkPlan (5)\n",
      "+- HashAggregate (4)\n",
      "   +- Exchange (3)\n",
      "      +- HashAggregate (2)\n",
      "         +- Scan parquet spark_catalog.default.loans (1)\n",
      "\n",
      "\n",
      "(1) Scan parquet spark_catalog.default.loans\n",
      "Output [2]: [lei#988, interest_rate#1010]\n",
      "Batched: true\n",
      "Bucketed: false (bucket column(s) not read)\n",
      "Location: InMemoryFileIndex [hdfs://nn:9000/user/hive/warehouse/loans]\n",
      "ReadSchema: struct<lei:string,interest_rate:string>\n",
      "\n",
      "(2) HashAggregate\n",
      "Input [2]: [lei#988, interest_rate#1010]\n",
      "Keys [1]: [lei#988]\n",
      "Functions [1]: [partial_avg(cast(interest_rate#1010 as double))]\n",
      "Aggregate Attributes [2]: [sum#1131, count#1132L]\n",
      "Results [3]: [lei#988, sum#1133, count#1134L]\n",
      "\n",
      "(3) Exchange\n",
      "Input [3]: [lei#988, sum#1133, count#1134L]\n",
      "Arguments: hashpartitioning(lei#988, 200), ENSURE_REQUIREMENTS, [plan_id=915]\n",
      "\n",
      "(4) HashAggregate\n",
      "Input [3]: [lei#988, sum#1133, count#1134L]\n",
      "Keys [1]: [lei#988]\n",
      "Functions [1]: [avg(cast(interest_rate#1010 as double))]\n",
      "Aggregate Attributes [1]: [avg(cast(interest_rate#1010 as double))#1128]\n",
      "Results [2]: [lei#988, avg(cast(interest_rate#1010 as double))#1128 AS avg#1127]\n",
      "\n",
      "(5) AdaptiveSparkPlan\n",
      "Output [2]: [lei#988, avg#1127]\n",
      "Arguments: isFinalPlan=false\n",
      "\n",
      "\n"
     ]
    }
   ],
   "source": [
    "#Q8: when computing a MEAN aggregate per group of loans, under what situation (when) do we require network I/O between the partial_mean and mean operations?\n",
    "spark.sql(\"\"\"\n",
    "SELECT county_code, AVG(interest_rate) as avg\n",
    "FROM loans\n",
    "GROUP BY county_code\n",
    "\"\"\").explain(\"formatted\")\n",
    "\n",
    "# The query plan for county_code does not indicate any exchange operation. Therefore, it does not require netork I/O between partial and mean operations. \n",
    "# The data is partitioned and grouped efficiently by county_code, and there is no need for I/O.\n",
    "\n",
    "spark.sql(\"\"\"\n",
    "SELECT lei, AVG(interest_rate) as avg\n",
    "FROM loans\n",
    "GROUP BY lei\n",
    "\"\"\").explain(\"formatted\")\n",
    "\n",
    "# The execution plan for lei does include an exchance operation. That means that in order for the partial mean results from different tasks to be combined, \n",
    "# there must be network I/O between the operations. The data is not efficiently grouped by lei."
   ]
  },
  {
   "cell_type": "code",
   "execution_count": 13,
   "id": "7ee00317-8777-4b4d-8918-5e2f9962a7e0",
   "metadata": {},
   "outputs": [
    {
     "name": "stderr",
     "output_type": "stream",
     "text": [
      "                                                                                \r"
     ]
    },
    {
     "data": {
      "text/plain": [
       "242941"
      ]
     },
     "execution_count": 13,
     "metadata": {},
     "output_type": "execute_result"
    }
   ],
   "source": [
    "#Q9\n",
    "from pyspark.sql.functions import col\n",
    "from pyspark.sql import functions as F\n",
    "\n",
    "df = spark.sql(\"\"\"\n",
    "SELECT l.loan_amount, l.income, l.interest_rate, a.action_taken\n",
    "FROM loans l\n",
    "JOIN action_taken a ON l.action_taken = a.id\n",
    "\"\"\")\n",
    "\n",
    "df = df.withColumn(\"income\", col(\"income\").cast(\"double\"))\n",
    "df = df.withColumn(\"interest_rate\", col(\"interest_rate\").cast(\"double\"))\n",
    "df = df.na.fill(0.0)\n",
    "df = df.withColumn(\"approval\", F.when(df[\"action_taken\"] == \"Loan originated\", 1.0).otherwise(0.0))\n",
    "\n",
    "train, test = df.randomSplit([0.8, 0.2], seed=41)\n",
    "\n",
    "approved_loans_count = train.filter(col('approval') == 1.0).count()\n",
    "approved_loans_count"
   ]
  },
  {
   "cell_type": "code",
   "execution_count": 14,
   "id": "7df0e01e-a2d9-4859-9fb3-32641c5270ba",
   "metadata": {},
   "outputs": [
    {
     "name": "stderr",
     "output_type": "stream",
     "text": [
      "                                                                                \r"
     ]
    },
    {
     "data": {
      "text/plain": [
       "0.8911497233940716"
      ]
     },
     "execution_count": 14,
     "metadata": {},
     "output_type": "execute_result"
    }
   ],
   "source": [
    "#Q10: what is the accuracy of the decision tree classifier of depth 5 on the test dataset?\n",
    "from pyspark.ml.feature import VectorAssembler\n",
    "from pyspark.ml.classification import DecisionTreeClassifier\n",
    "from pyspark.ml.evaluation import MulticlassClassificationEvaluator\n",
    "from pyspark.ml.pipeline import Pipeline, Pipeline, Model\n",
    "va  = VectorAssembler(inputCols=[\"loan_amount\", \"income\", \"interest_rate\"], outputCol=\"features\")\n",
    "dt = DecisionTreeClassifier(featuresCol=\"features\", labelCol = \"approval\", maxDepth=5)\n",
    "\n",
    "model = dt.fit(va.transform(train))\n",
    "\n",
    "test_data = va.transform(test)\n",
    "predictions = model.transform(test_data)\n",
    "\n",
    "evaluator = MulticlassClassificationEvaluator(labelCol=\"approval\", predictionCol=\"prediction\", metricName=\"accuracy\")\n",
    "accuracy = evaluator.evaluate(predictions)\n",
    "\n",
    "accuracy"
   ]
  }
 ],
 "metadata": {
  "kernelspec": {
   "display_name": "Python 3 (ipykernel)",
   "language": "python",
   "name": "python3"
  },
  "language_info": {
   "codemirror_mode": {
    "name": "ipython",
    "version": 3
   },
   "file_extension": ".py",
   "mimetype": "text/x-python",
   "name": "python",
   "nbconvert_exporter": "python",
   "pygments_lexer": "ipython3",
   "version": "3.10.12"
  }
 },
 "nbformat": 4,
 "nbformat_minor": 5
}
